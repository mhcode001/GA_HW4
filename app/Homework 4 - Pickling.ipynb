{
 "cells": [
  {
   "cell_type": "code",
   "execution_count": 8,
   "id": "bb8f484d",
   "metadata": {},
   "outputs": [],
   "source": [
    "import pandas as pd\n",
    "import numpy as np\n",
    "from sklearn.pipeline import make_pipeline\n",
    "from sklearn.tree import DecisionTreeRegressor\n",
    "import category_encoders as ce"
   ]
  },
  {
   "cell_type": "code",
   "execution_count": 9,
   "id": "4c862192",
   "metadata": {},
   "outputs": [],
   "source": [
    "url = \"https://raw.githubusercontent.com/mhcode001/GA_HW4/main/data/allcraftbeer.csv\"\n",
    "df = pd.read_csv(url)"
   ]
  },
  {
   "cell_type": "code",
   "execution_count": 10,
   "id": "57fd68e7",
   "metadata": {},
   "outputs": [
    {
     "data": {
      "text/html": [
       "<div>\n",
       "<style scoped>\n",
       "    .dataframe tbody tr th:only-of-type {\n",
       "        vertical-align: middle;\n",
       "    }\n",
       "\n",
       "    .dataframe tbody tr th {\n",
       "        vertical-align: top;\n",
       "    }\n",
       "\n",
       "    .dataframe thead th {\n",
       "        text-align: right;\n",
       "    }\n",
       "</style>\n",
       "<table border=\"1\" class=\"dataframe\">\n",
       "  <thead>\n",
       "    <tr style=\"text-align: right;\">\n",
       "      <th></th>\n",
       "      <th>Unnamed: 0</th>\n",
       "      <th>abv</th>\n",
       "      <th>ibu</th>\n",
       "      <th>beer_name</th>\n",
       "      <th>style</th>\n",
       "      <th>ounces</th>\n",
       "      <th>brewery_name</th>\n",
       "      <th>city</th>\n",
       "      <th>state</th>\n",
       "    </tr>\n",
       "  </thead>\n",
       "  <tbody>\n",
       "    <tr>\n",
       "      <th>0</th>\n",
       "      <td>0</td>\n",
       "      <td>0.050</td>\n",
       "      <td>26.750000</td>\n",
       "      <td>Pub Beer</td>\n",
       "      <td>American Pale Lager</td>\n",
       "      <td>12.0</td>\n",
       "      <td>10 Barrel Brewing Company</td>\n",
       "      <td>Bend</td>\n",
       "      <td>OR</td>\n",
       "    </tr>\n",
       "    <tr>\n",
       "      <th>1</th>\n",
       "      <td>1</td>\n",
       "      <td>0.066</td>\n",
       "      <td>44.941176</td>\n",
       "      <td>Devil's Cup</td>\n",
       "      <td>American Pale Ale (APA)</td>\n",
       "      <td>12.0</td>\n",
       "      <td>18th Street Brewery</td>\n",
       "      <td>Gary</td>\n",
       "      <td>IN</td>\n",
       "    </tr>\n",
       "    <tr>\n",
       "      <th>2</th>\n",
       "      <td>2</td>\n",
       "      <td>0.071</td>\n",
       "      <td>67.634551</td>\n",
       "      <td>Rise of the Phoenix</td>\n",
       "      <td>American IPA</td>\n",
       "      <td>12.0</td>\n",
       "      <td>18th Street Brewery</td>\n",
       "      <td>Gary</td>\n",
       "      <td>IN</td>\n",
       "    </tr>\n",
       "    <tr>\n",
       "      <th>3</th>\n",
       "      <td>3</td>\n",
       "      <td>0.090</td>\n",
       "      <td>93.320000</td>\n",
       "      <td>Sinister</td>\n",
       "      <td>American Double / Imperial IPA</td>\n",
       "      <td>12.0</td>\n",
       "      <td>18th Street Brewery</td>\n",
       "      <td>Gary</td>\n",
       "      <td>IN</td>\n",
       "    </tr>\n",
       "    <tr>\n",
       "      <th>4</th>\n",
       "      <td>4</td>\n",
       "      <td>0.075</td>\n",
       "      <td>67.634551</td>\n",
       "      <td>Sex and Candy</td>\n",
       "      <td>American IPA</td>\n",
       "      <td>12.0</td>\n",
       "      <td>18th Street Brewery</td>\n",
       "      <td>Gary</td>\n",
       "      <td>IN</td>\n",
       "    </tr>\n",
       "    <tr>\n",
       "      <th>...</th>\n",
       "      <td>...</td>\n",
       "      <td>...</td>\n",
       "      <td>...</td>\n",
       "      <td>...</td>\n",
       "      <td>...</td>\n",
       "      <td>...</td>\n",
       "      <td>...</td>\n",
       "      <td>...</td>\n",
       "      <td>...</td>\n",
       "    </tr>\n",
       "    <tr>\n",
       "      <th>2343</th>\n",
       "      <td>2343</td>\n",
       "      <td>0.067</td>\n",
       "      <td>45.000000</td>\n",
       "      <td>Belgorado</td>\n",
       "      <td>Belgian IPA</td>\n",
       "      <td>12.0</td>\n",
       "      <td>Wynkoop Brewing Company</td>\n",
       "      <td>Denver</td>\n",
       "      <td>CO</td>\n",
       "    </tr>\n",
       "    <tr>\n",
       "      <th>2344</th>\n",
       "      <td>2344</td>\n",
       "      <td>0.052</td>\n",
       "      <td>36.298701</td>\n",
       "      <td>Rail Yard Ale</td>\n",
       "      <td>American Amber / Red Ale</td>\n",
       "      <td>12.0</td>\n",
       "      <td>Wynkoop Brewing Company</td>\n",
       "      <td>Denver</td>\n",
       "      <td>CO</td>\n",
       "    </tr>\n",
       "    <tr>\n",
       "      <th>2345</th>\n",
       "      <td>2345</td>\n",
       "      <td>0.055</td>\n",
       "      <td>31.000000</td>\n",
       "      <td>B3K Black Lager</td>\n",
       "      <td>Schwarzbier</td>\n",
       "      <td>12.0</td>\n",
       "      <td>Wynkoop Brewing Company</td>\n",
       "      <td>Denver</td>\n",
       "      <td>CO</td>\n",
       "    </tr>\n",
       "    <tr>\n",
       "      <th>2346</th>\n",
       "      <td>2346</td>\n",
       "      <td>0.055</td>\n",
       "      <td>40.000000</td>\n",
       "      <td>Silverback Pale Ale</td>\n",
       "      <td>American Pale Ale (APA)</td>\n",
       "      <td>12.0</td>\n",
       "      <td>Wynkoop Brewing Company</td>\n",
       "      <td>Denver</td>\n",
       "      <td>CO</td>\n",
       "    </tr>\n",
       "    <tr>\n",
       "      <th>2347</th>\n",
       "      <td>2347</td>\n",
       "      <td>0.052</td>\n",
       "      <td>36.298701</td>\n",
       "      <td>Rail Yard Ale (2009)</td>\n",
       "      <td>American Amber / Red Ale</td>\n",
       "      <td>12.0</td>\n",
       "      <td>Wynkoop Brewing Company</td>\n",
       "      <td>Denver</td>\n",
       "      <td>CO</td>\n",
       "    </tr>\n",
       "  </tbody>\n",
       "</table>\n",
       "<p>2348 rows × 9 columns</p>\n",
       "</div>"
      ],
      "text/plain": [
       "      Unnamed: 0    abv        ibu             beer_name  \\\n",
       "0              0  0.050  26.750000              Pub Beer   \n",
       "1              1  0.066  44.941176           Devil's Cup   \n",
       "2              2  0.071  67.634551   Rise of the Phoenix   \n",
       "3              3  0.090  93.320000              Sinister   \n",
       "4              4  0.075  67.634551         Sex and Candy   \n",
       "...          ...    ...        ...                   ...   \n",
       "2343        2343  0.067  45.000000             Belgorado   \n",
       "2344        2344  0.052  36.298701         Rail Yard Ale   \n",
       "2345        2345  0.055  31.000000       B3K Black Lager   \n",
       "2346        2346  0.055  40.000000   Silverback Pale Ale   \n",
       "2347        2347  0.052  36.298701  Rail Yard Ale (2009)   \n",
       "\n",
       "                               style  ounces               brewery_name  \\\n",
       "0                American Pale Lager    12.0  10 Barrel Brewing Company   \n",
       "1            American Pale Ale (APA)    12.0        18th Street Brewery   \n",
       "2                       American IPA    12.0        18th Street Brewery   \n",
       "3     American Double / Imperial IPA    12.0        18th Street Brewery   \n",
       "4                       American IPA    12.0        18th Street Brewery   \n",
       "...                              ...     ...                        ...   \n",
       "2343                     Belgian IPA    12.0    Wynkoop Brewing Company   \n",
       "2344        American Amber / Red Ale    12.0    Wynkoop Brewing Company   \n",
       "2345                     Schwarzbier    12.0    Wynkoop Brewing Company   \n",
       "2346         American Pale Ale (APA)    12.0    Wynkoop Brewing Company   \n",
       "2347        American Amber / Red Ale    12.0    Wynkoop Brewing Company   \n",
       "\n",
       "        city state  \n",
       "0       Bend    OR  \n",
       "1       Gary    IN  \n",
       "2       Gary    IN  \n",
       "3       Gary    IN  \n",
       "4       Gary    IN  \n",
       "...      ...   ...  \n",
       "2343  Denver    CO  \n",
       "2344  Denver    CO  \n",
       "2345  Denver    CO  \n",
       "2346  Denver    CO  \n",
       "2347  Denver    CO  \n",
       "\n",
       "[2348 rows x 9 columns]"
      ]
     },
     "execution_count": 10,
     "metadata": {},
     "output_type": "execute_result"
    }
   ],
   "source": [
    "df"
   ]
  },
  {
   "cell_type": "code",
   "execution_count": 11,
   "id": "2b7bbf93",
   "metadata": {
    "scrolled": true
   },
   "outputs": [],
   "source": [
    "df = df.drop(['Unnamed: 0'], axis = 1)"
   ]
  },
  {
   "cell_type": "code",
   "execution_count": 12,
   "id": "00807071",
   "metadata": {},
   "outputs": [],
   "source": [
    "#df.to_csv(\"allcraftbeer.csv\")"
   ]
  },
  {
   "cell_type": "code",
   "execution_count": 13,
   "id": "d12d8aa9",
   "metadata": {},
   "outputs": [
    {
     "data": {
      "text/html": [
       "<div>\n",
       "<style scoped>\n",
       "    .dataframe tbody tr th:only-of-type {\n",
       "        vertical-align: middle;\n",
       "    }\n",
       "\n",
       "    .dataframe tbody tr th {\n",
       "        vertical-align: top;\n",
       "    }\n",
       "\n",
       "    .dataframe thead th {\n",
       "        text-align: right;\n",
       "    }\n",
       "</style>\n",
       "<table border=\"1\" class=\"dataframe\">\n",
       "  <thead>\n",
       "    <tr style=\"text-align: right;\">\n",
       "      <th></th>\n",
       "      <th>abv</th>\n",
       "      <th>ibu</th>\n",
       "      <th>beer_name</th>\n",
       "      <th>style</th>\n",
       "      <th>ounces</th>\n",
       "      <th>brewery_name</th>\n",
       "      <th>city</th>\n",
       "      <th>state</th>\n",
       "    </tr>\n",
       "  </thead>\n",
       "  <tbody>\n",
       "    <tr>\n",
       "      <th>0</th>\n",
       "      <td>0.050</td>\n",
       "      <td>26.750000</td>\n",
       "      <td>Pub Beer</td>\n",
       "      <td>American Pale Lager</td>\n",
       "      <td>12.0</td>\n",
       "      <td>10 Barrel Brewing Company</td>\n",
       "      <td>Bend</td>\n",
       "      <td>OR</td>\n",
       "    </tr>\n",
       "    <tr>\n",
       "      <th>1</th>\n",
       "      <td>0.066</td>\n",
       "      <td>44.941176</td>\n",
       "      <td>Devil's Cup</td>\n",
       "      <td>American Pale Ale (APA)</td>\n",
       "      <td>12.0</td>\n",
       "      <td>18th Street Brewery</td>\n",
       "      <td>Gary</td>\n",
       "      <td>IN</td>\n",
       "    </tr>\n",
       "    <tr>\n",
       "      <th>2</th>\n",
       "      <td>0.071</td>\n",
       "      <td>67.634551</td>\n",
       "      <td>Rise of the Phoenix</td>\n",
       "      <td>American IPA</td>\n",
       "      <td>12.0</td>\n",
       "      <td>18th Street Brewery</td>\n",
       "      <td>Gary</td>\n",
       "      <td>IN</td>\n",
       "    </tr>\n",
       "    <tr>\n",
       "      <th>3</th>\n",
       "      <td>0.090</td>\n",
       "      <td>93.320000</td>\n",
       "      <td>Sinister</td>\n",
       "      <td>American Double / Imperial IPA</td>\n",
       "      <td>12.0</td>\n",
       "      <td>18th Street Brewery</td>\n",
       "      <td>Gary</td>\n",
       "      <td>IN</td>\n",
       "    </tr>\n",
       "    <tr>\n",
       "      <th>4</th>\n",
       "      <td>0.075</td>\n",
       "      <td>67.634551</td>\n",
       "      <td>Sex and Candy</td>\n",
       "      <td>American IPA</td>\n",
       "      <td>12.0</td>\n",
       "      <td>18th Street Brewery</td>\n",
       "      <td>Gary</td>\n",
       "      <td>IN</td>\n",
       "    </tr>\n",
       "    <tr>\n",
       "      <th>...</th>\n",
       "      <td>...</td>\n",
       "      <td>...</td>\n",
       "      <td>...</td>\n",
       "      <td>...</td>\n",
       "      <td>...</td>\n",
       "      <td>...</td>\n",
       "      <td>...</td>\n",
       "      <td>...</td>\n",
       "    </tr>\n",
       "    <tr>\n",
       "      <th>2343</th>\n",
       "      <td>0.067</td>\n",
       "      <td>45.000000</td>\n",
       "      <td>Belgorado</td>\n",
       "      <td>Belgian IPA</td>\n",
       "      <td>12.0</td>\n",
       "      <td>Wynkoop Brewing Company</td>\n",
       "      <td>Denver</td>\n",
       "      <td>CO</td>\n",
       "    </tr>\n",
       "    <tr>\n",
       "      <th>2344</th>\n",
       "      <td>0.052</td>\n",
       "      <td>36.298701</td>\n",
       "      <td>Rail Yard Ale</td>\n",
       "      <td>American Amber / Red Ale</td>\n",
       "      <td>12.0</td>\n",
       "      <td>Wynkoop Brewing Company</td>\n",
       "      <td>Denver</td>\n",
       "      <td>CO</td>\n",
       "    </tr>\n",
       "    <tr>\n",
       "      <th>2345</th>\n",
       "      <td>0.055</td>\n",
       "      <td>31.000000</td>\n",
       "      <td>B3K Black Lager</td>\n",
       "      <td>Schwarzbier</td>\n",
       "      <td>12.0</td>\n",
       "      <td>Wynkoop Brewing Company</td>\n",
       "      <td>Denver</td>\n",
       "      <td>CO</td>\n",
       "    </tr>\n",
       "    <tr>\n",
       "      <th>2346</th>\n",
       "      <td>0.055</td>\n",
       "      <td>40.000000</td>\n",
       "      <td>Silverback Pale Ale</td>\n",
       "      <td>American Pale Ale (APA)</td>\n",
       "      <td>12.0</td>\n",
       "      <td>Wynkoop Brewing Company</td>\n",
       "      <td>Denver</td>\n",
       "      <td>CO</td>\n",
       "    </tr>\n",
       "    <tr>\n",
       "      <th>2347</th>\n",
       "      <td>0.052</td>\n",
       "      <td>36.298701</td>\n",
       "      <td>Rail Yard Ale (2009)</td>\n",
       "      <td>American Amber / Red Ale</td>\n",
       "      <td>12.0</td>\n",
       "      <td>Wynkoop Brewing Company</td>\n",
       "      <td>Denver</td>\n",
       "      <td>CO</td>\n",
       "    </tr>\n",
       "  </tbody>\n",
       "</table>\n",
       "<p>2348 rows × 8 columns</p>\n",
       "</div>"
      ],
      "text/plain": [
       "        abv        ibu             beer_name                           style  \\\n",
       "0     0.050  26.750000              Pub Beer             American Pale Lager   \n",
       "1     0.066  44.941176           Devil's Cup         American Pale Ale (APA)   \n",
       "2     0.071  67.634551   Rise of the Phoenix                    American IPA   \n",
       "3     0.090  93.320000              Sinister  American Double / Imperial IPA   \n",
       "4     0.075  67.634551         Sex and Candy                    American IPA   \n",
       "...     ...        ...                   ...                             ...   \n",
       "2343  0.067  45.000000             Belgorado                     Belgian IPA   \n",
       "2344  0.052  36.298701         Rail Yard Ale        American Amber / Red Ale   \n",
       "2345  0.055  31.000000       B3K Black Lager                     Schwarzbier   \n",
       "2346  0.055  40.000000   Silverback Pale Ale         American Pale Ale (APA)   \n",
       "2347  0.052  36.298701  Rail Yard Ale (2009)        American Amber / Red Ale   \n",
       "\n",
       "      ounces               brewery_name    city state  \n",
       "0       12.0  10 Barrel Brewing Company    Bend    OR  \n",
       "1       12.0        18th Street Brewery    Gary    IN  \n",
       "2       12.0        18th Street Brewery    Gary    IN  \n",
       "3       12.0        18th Street Brewery    Gary    IN  \n",
       "4       12.0        18th Street Brewery    Gary    IN  \n",
       "...      ...                        ...     ...   ...  \n",
       "2343    12.0    Wynkoop Brewing Company  Denver    CO  \n",
       "2344    12.0    Wynkoop Brewing Company  Denver    CO  \n",
       "2345    12.0    Wynkoop Brewing Company  Denver    CO  \n",
       "2346    12.0    Wynkoop Brewing Company  Denver    CO  \n",
       "2347    12.0    Wynkoop Brewing Company  Denver    CO  \n",
       "\n",
       "[2348 rows x 8 columns]"
      ]
     },
     "execution_count": 13,
     "metadata": {},
     "output_type": "execute_result"
    }
   ],
   "source": [
    "df"
   ]
  },
  {
   "cell_type": "code",
   "execution_count": 14,
   "id": "9ae78d7a",
   "metadata": {},
   "outputs": [
    {
     "data": {
      "text/plain": [
       "['beer_name', 'style', 'brewery_name', 'city', 'state']"
      ]
     },
     "execution_count": 14,
     "metadata": {},
     "output_type": "execute_result"
    }
   ],
   "source": [
    "df.select_dtypes(include = object).columns.tolist()"
   ]
  },
  {
   "cell_type": "code",
   "execution_count": null,
   "id": "2fdb2b2f",
   "metadata": {},
   "outputs": [],
   "source": []
  },
  {
   "cell_type": "code",
   "execution_count": 15,
   "id": "64ae31f6",
   "metadata": {},
   "outputs": [],
   "source": [
    "X = df.drop('abv', axis = 1)\n",
    "y = df['abv']"
   ]
  },
  {
   "cell_type": "code",
   "execution_count": 16,
   "id": "df49f4f0",
   "metadata": {},
   "outputs": [],
   "source": [
    "# Optimized parameters\n",
    "tree = DecisionTreeRegressor(max_depth = 9, max_features = 0.5, min_samples_leaf = 20)\n",
    "\n",
    "pipe = make_pipeline(ce.TargetEncoder(), tree)"
   ]
  },
  {
   "cell_type": "code",
   "execution_count": 17,
   "id": "a9575670",
   "metadata": {},
   "outputs": [
    {
     "data": {
      "text/plain": [
       "Pipeline(steps=[('targetencoder',\n",
       "                 TargetEncoder(cols=['beer_name', 'style', 'brewery_name',\n",
       "                                     'city', 'state'])),\n",
       "                ('decisiontreeregressor',\n",
       "                 DecisionTreeRegressor(max_depth=9, max_features=0.5,\n",
       "                                       min_samples_leaf=20))])"
      ]
     },
     "execution_count": 17,
     "metadata": {},
     "output_type": "execute_result"
    }
   ],
   "source": [
    "# fit the tree, and export it\n",
    "pipe.fit(X, y)"
   ]
  },
  {
   "cell_type": "code",
   "execution_count": 18,
   "id": "cffd8fe4",
   "metadata": {},
   "outputs": [],
   "source": [
    "# the pickle module allows you to export saved models\n",
    "import pickle\n",
    "\n",
    "# rb -- WRITE the file in BYTES\n",
    "with open('pipe.pkl', 'wb') as export:\n",
    "    # this creates an external version of the file that we can now import later on\n",
    "    pickle.dump(pipe, export)"
   ]
  },
  {
   "cell_type": "code",
   "execution_count": 19,
   "id": "e8925c64",
   "metadata": {},
   "outputs": [],
   "source": [
    "# the pickle module allows you to export saved models\n",
    "import pickle\n",
    "\n",
    "# rb -- WRITE the file in BYTES\n",
    "with open('pipe.pkl', 'wb') as export:\n",
    "    # this creates an external version of the file that we can now import later on\n",
    "    pickle.dump(pipe, export)"
   ]
  },
  {
   "cell_type": "code",
   "execution_count": 20,
   "id": "afc10495",
   "metadata": {},
   "outputs": [],
   "source": [
    "# we can now import this, and re-use it on new data:  very handy\n",
    "\n",
    "with open('pipe.pkl', 'rb') as import_:\n",
    "    # this will import the pickled object again\n",
    "    pipe2 = pickle.load(import_)"
   ]
  },
  {
   "cell_type": "code",
   "execution_count": 21,
   "id": "5be9b673",
   "metadata": {},
   "outputs": [
    {
     "data": {
      "text/plain": [
       "Pipeline(steps=[('targetencoder',\n",
       "                 TargetEncoder(cols=['beer_name', 'style', 'brewery_name',\n",
       "                                     'city', 'state'])),\n",
       "                ('decisiontreeregressor',\n",
       "                 DecisionTreeRegressor(max_depth=9, max_features=0.5,\n",
       "                                       min_samples_leaf=20))])"
      ]
     },
     "execution_count": 21,
     "metadata": {},
     "output_type": "execute_result"
    }
   ],
   "source": [
    "pipe2"
   ]
  },
  {
   "cell_type": "code",
   "execution_count": 22,
   "id": "0412e0d1",
   "metadata": {},
   "outputs": [
    {
     "data": {
      "text/plain": [
       "array([0.05286364, 0.05557895, 0.07613636, ..., 0.05360396, 0.05360396,\n",
       "       0.06104762])"
      ]
     },
     "execution_count": 22,
     "metadata": {},
     "output_type": "execute_result"
    }
   ],
   "source": [
    "pipe2.predict(X)"
   ]
  },
  {
   "cell_type": "code",
   "execution_count": 23,
   "id": "955b21f3",
   "metadata": {},
   "outputs": [
    {
     "data": {
      "text/plain": [
       "Pipeline(steps=[('targetencoder',\n",
       "                 TargetEncoder(cols=['beer_name', 'style', 'brewery_name',\n",
       "                                     'city', 'state'])),\n",
       "                ('decisiontreeregressor',\n",
       "                 DecisionTreeRegressor(max_depth=9, max_features=0.5,\n",
       "                                       min_samples_leaf=20))])"
      ]
     },
     "execution_count": 23,
     "metadata": {},
     "output_type": "execute_result"
    }
   ],
   "source": [
    "# here it is\n",
    "pipe"
   ]
  },
  {
   "cell_type": "code",
   "execution_count": 24,
   "id": "4e2157a7",
   "metadata": {},
   "outputs": [
    {
     "data": {
      "text/plain": [
       "Pipeline(steps=[('targetencoder',\n",
       "                 TargetEncoder(cols=['beer_name', 'style', 'brewery_name',\n",
       "                                     'city', 'state'])),\n",
       "                ('decisiontreeregressor',\n",
       "                 DecisionTreeRegressor(max_depth=9, max_features=0.5,\n",
       "                                       min_samples_leaf=20))])"
      ]
     },
     "execution_count": 24,
     "metadata": {},
     "output_type": "execute_result"
    }
   ],
   "source": [
    "pipe2"
   ]
  },
  {
   "cell_type": "code",
   "execution_count": 25,
   "id": "59f570fe",
   "metadata": {},
   "outputs": [
    {
     "data": {
      "text/html": [
       "<div>\n",
       "<style scoped>\n",
       "    .dataframe tbody tr th:only-of-type {\n",
       "        vertical-align: middle;\n",
       "    }\n",
       "\n",
       "    .dataframe tbody tr th {\n",
       "        vertical-align: top;\n",
       "    }\n",
       "\n",
       "    .dataframe thead th {\n",
       "        text-align: right;\n",
       "    }\n",
       "</style>\n",
       "<table border=\"1\" class=\"dataframe\">\n",
       "  <thead>\n",
       "    <tr style=\"text-align: right;\">\n",
       "      <th></th>\n",
       "      <th>abv</th>\n",
       "      <th>ibu</th>\n",
       "      <th>beer_name</th>\n",
       "      <th>style</th>\n",
       "      <th>ounces</th>\n",
       "      <th>brewery_name</th>\n",
       "      <th>city</th>\n",
       "      <th>state</th>\n",
       "    </tr>\n",
       "  </thead>\n",
       "  <tbody>\n",
       "    <tr>\n",
       "      <th>2208</th>\n",
       "      <td>0.001</td>\n",
       "      <td>40.912020</td>\n",
       "      <td>Scotty K NA</td>\n",
       "      <td>Low Alcohol Beer</td>\n",
       "      <td>16.0</td>\n",
       "      <td>Uncommon Brewers</td>\n",
       "      <td>Santa Cruz</td>\n",
       "      <td>CA</td>\n",
       "    </tr>\n",
       "    <tr>\n",
       "      <th>742</th>\n",
       "      <td>0.027</td>\n",
       "      <td>67.634551</td>\n",
       "      <td>Bikini Beer</td>\n",
       "      <td>American IPA</td>\n",
       "      <td>12.0</td>\n",
       "      <td>Evil Twin Brewing</td>\n",
       "      <td>Brooklyn</td>\n",
       "      <td>NY</td>\n",
       "    </tr>\n",
       "    <tr>\n",
       "      <th>1043</th>\n",
       "      <td>0.027</td>\n",
       "      <td>21.000000</td>\n",
       "      <td>Totally Radler</td>\n",
       "      <td>Radler</td>\n",
       "      <td>16.0</td>\n",
       "      <td>Hopworks Urban Brewery</td>\n",
       "      <td>Portland</td>\n",
       "      <td>OR</td>\n",
       "    </tr>\n",
       "    <tr>\n",
       "      <th>2332</th>\n",
       "      <td>0.028</td>\n",
       "      <td>15.000000</td>\n",
       "      <td>Summer Brew</td>\n",
       "      <td>American Pilsner</td>\n",
       "      <td>12.0</td>\n",
       "      <td>Woodstock Inn, Station &amp; Brewery</td>\n",
       "      <td>North Woodstock</td>\n",
       "      <td>NH</td>\n",
       "    </tr>\n",
       "    <tr>\n",
       "      <th>138</th>\n",
       "      <td>0.032</td>\n",
       "      <td>27.000000</td>\n",
       "      <td>Rocket Girl</td>\n",
       "      <td>Kölsch</td>\n",
       "      <td>12.0</td>\n",
       "      <td>Asheville Brewing Company</td>\n",
       "      <td>Asheville</td>\n",
       "      <td>NC</td>\n",
       "    </tr>\n",
       "    <tr>\n",
       "      <th>...</th>\n",
       "      <td>...</td>\n",
       "      <td>...</td>\n",
       "      <td>...</td>\n",
       "      <td>...</td>\n",
       "      <td>...</td>\n",
       "      <td>...</td>\n",
       "      <td>...</td>\n",
       "      <td>...</td>\n",
       "    </tr>\n",
       "    <tr>\n",
       "      <th>1805</th>\n",
       "      <td>0.100</td>\n",
       "      <td>52.000000</td>\n",
       "      <td>4Beans</td>\n",
       "      <td>Baltic Porter</td>\n",
       "      <td>12.0</td>\n",
       "      <td>Sixpoint Craft Ales</td>\n",
       "      <td>Brooklyn</td>\n",
       "      <td>NY</td>\n",
       "    </tr>\n",
       "    <tr>\n",
       "      <th>2221</th>\n",
       "      <td>0.104</td>\n",
       "      <td>52.000000</td>\n",
       "      <td>Lee Hill Series Vol. 4 - Manhattan Style Rye Ale</td>\n",
       "      <td>Rye Beer</td>\n",
       "      <td>19.2</td>\n",
       "      <td>Upslope Brewing Company</td>\n",
       "      <td>Boulder</td>\n",
       "      <td>CO</td>\n",
       "    </tr>\n",
       "    <tr>\n",
       "      <th>2131</th>\n",
       "      <td>0.120</td>\n",
       "      <td>90.000000</td>\n",
       "      <td>Csar</td>\n",
       "      <td>Russian Imperial Stout</td>\n",
       "      <td>16.0</td>\n",
       "      <td>Tin Man Brewing Company</td>\n",
       "      <td>Evansville</td>\n",
       "      <td>IN</td>\n",
       "    </tr>\n",
       "    <tr>\n",
       "      <th>70</th>\n",
       "      <td>0.125</td>\n",
       "      <td>80.000000</td>\n",
       "      <td>London Balling</td>\n",
       "      <td>English Barleywine</td>\n",
       "      <td>16.0</td>\n",
       "      <td>Against the Grain Brewery</td>\n",
       "      <td>Louisville</td>\n",
       "      <td>KY</td>\n",
       "    </tr>\n",
       "    <tr>\n",
       "      <th>2220</th>\n",
       "      <td>0.128</td>\n",
       "      <td>24.000000</td>\n",
       "      <td>Lee Hill Series Vol. 5 - Belgian Style Quadrup...</td>\n",
       "      <td>Quadrupel (Quad)</td>\n",
       "      <td>19.2</td>\n",
       "      <td>Upslope Brewing Company</td>\n",
       "      <td>Boulder</td>\n",
       "      <td>CO</td>\n",
       "    </tr>\n",
       "  </tbody>\n",
       "</table>\n",
       "<p>2348 rows × 8 columns</p>\n",
       "</div>"
      ],
      "text/plain": [
       "        abv        ibu                                          beer_name  \\\n",
       "2208  0.001  40.912020                                        Scotty K NA   \n",
       "742   0.027  67.634551                                        Bikini Beer   \n",
       "1043  0.027  21.000000                                     Totally Radler   \n",
       "2332  0.028  15.000000                                        Summer Brew   \n",
       "138   0.032  27.000000                                        Rocket Girl   \n",
       "...     ...        ...                                                ...   \n",
       "1805  0.100  52.000000                                             4Beans   \n",
       "2221  0.104  52.000000   Lee Hill Series Vol. 4 - Manhattan Style Rye Ale   \n",
       "2131  0.120  90.000000                                               Csar   \n",
       "70    0.125  80.000000                                     London Balling   \n",
       "2220  0.128  24.000000  Lee Hill Series Vol. 5 - Belgian Style Quadrup...   \n",
       "\n",
       "                       style  ounces                      brewery_name  \\\n",
       "2208        Low Alcohol Beer    16.0                  Uncommon Brewers   \n",
       "742             American IPA    12.0                 Evil Twin Brewing   \n",
       "1043                  Radler    16.0            Hopworks Urban Brewery   \n",
       "2332        American Pilsner    12.0  Woodstock Inn, Station & Brewery   \n",
       "138                   Kölsch    12.0         Asheville Brewing Company   \n",
       "...                      ...     ...                               ...   \n",
       "1805           Baltic Porter    12.0               Sixpoint Craft Ales   \n",
       "2221                Rye Beer    19.2           Upslope Brewing Company   \n",
       "2131  Russian Imperial Stout    16.0           Tin Man Brewing Company   \n",
       "70        English Barleywine    16.0         Against the Grain Brewery   \n",
       "2220        Quadrupel (Quad)    19.2           Upslope Brewing Company   \n",
       "\n",
       "                 city state  \n",
       "2208       Santa Cruz    CA  \n",
       "742          Brooklyn    NY  \n",
       "1043         Portland    OR  \n",
       "2332  North Woodstock    NH  \n",
       "138         Asheville    NC  \n",
       "...               ...   ...  \n",
       "1805         Brooklyn    NY  \n",
       "2221          Boulder    CO  \n",
       "2131       Evansville    IN  \n",
       "70         Louisville    KY  \n",
       "2220          Boulder    CO  \n",
       "\n",
       "[2348 rows x 8 columns]"
      ]
     },
     "execution_count": 25,
     "metadata": {},
     "output_type": "execute_result"
    }
   ],
   "source": [
    "df.sort_values(by = 'abv')"
   ]
  },
  {
   "cell_type": "code",
   "execution_count": 26,
   "id": "7455fcdf",
   "metadata": {},
   "outputs": [
    {
     "name": "stdout",
     "output_type": "stream",
     "text": [
      "<class 'pandas.core.frame.DataFrame'>\n",
      "RangeIndex: 2348 entries, 0 to 2347\n",
      "Data columns (total 8 columns):\n",
      " #   Column        Non-Null Count  Dtype  \n",
      "---  ------        --------------  -----  \n",
      " 0   abv           2348 non-null   float64\n",
      " 1   ibu           2348 non-null   float64\n",
      " 2   beer_name     2348 non-null   object \n",
      " 3   style         2346 non-null   object \n",
      " 4   ounces        2348 non-null   float64\n",
      " 5   brewery_name  2348 non-null   object \n",
      " 6   city          2348 non-null   object \n",
      " 7   state         2348 non-null   object \n",
      "dtypes: float64(3), object(5)\n",
      "memory usage: 146.9+ KB\n"
     ]
    }
   ],
   "source": [
    "df.info()"
   ]
  },
  {
   "cell_type": "code",
   "execution_count": 27,
   "id": "38697c05",
   "metadata": {},
   "outputs": [
    {
     "name": "stderr",
     "output_type": "stream",
     "text": [
      "/var/folders/2w/vnw4v19x7fs1g_w0ns1sdly0blfqhl/T/ipykernel_10159/1461041111.py:1: DeprecationWarning: `np.object` is a deprecated alias for the builtin `object`. To silence this warning, use `object` by itself. Doing this will not modify any behavior and is safe. \n",
      "Deprecated in NumPy 1.20; for more details and guidance: https://numpy.org/devdocs/release/1.20.0-notes.html#deprecations\n",
      "  df.select_dtypes(include = np.object).columns.tolist()\n"
     ]
    },
    {
     "data": {
      "text/plain": [
       "['beer_name', 'style', 'brewery_name', 'city', 'state']"
      ]
     },
     "execution_count": 27,
     "metadata": {},
     "output_type": "execute_result"
    }
   ],
   "source": [
    "df.select_dtypes(include = np.object).columns.tolist()"
   ]
  },
  {
   "cell_type": "code",
   "execution_count": 28,
   "id": "3bc99b13",
   "metadata": {},
   "outputs": [],
   "source": [
    "beer_name = 'Rocket Girl'\n",
    "style = 'American IPA'\n",
    "brewery_name = 'Summer Brew'\n",
    "city = 'Santa Cruz'\n",
    "state = 'CA'\n",
    "ibu = 27\n",
    "ounces = 16"
   ]
  },
  {
   "cell_type": "code",
   "execution_count": 29,
   "id": "de8493d5",
   "metadata": {},
   "outputs": [],
   "source": [
    "sample = {\n",
    "    'beer_name': beer_name,\n",
    "    'style': style,\n",
    "    'brewery_name': brewery_name,\n",
    "    'city': city,\n",
    "    'state': state,\n",
    "    'ibu': ibu,\n",
    "    'ounces': ounces\n",
    "}\n",
    "\n",
    "sample = pd.DataFrame(sample, index = [0])"
   ]
  },
  {
   "cell_type": "code",
   "execution_count": 30,
   "id": "68496597",
   "metadata": {},
   "outputs": [
    {
     "name": "stderr",
     "output_type": "stream",
     "text": [
      "/opt/anaconda3/lib/python3.8/site-packages/sklearn/base.py:493: FutureWarning: The feature names should match those that were passed during fit. Starting version 1.2, an error will be raised.\n",
      "Feature names must be in the same order as they were in fit.\n",
      "\n",
      "  warnings.warn(message, FutureWarning)\n"
     ]
    },
    {
     "data": {
      "text/plain": [
       "0.06287096774193549"
      ]
     },
     "execution_count": 30,
     "metadata": {},
     "output_type": "execute_result"
    }
   ],
   "source": [
    "pipe2.predict(sample)[0]"
   ]
  },
  {
   "cell_type": "code",
   "execution_count": 32,
   "id": "41ad7ddf",
   "metadata": {},
   "outputs": [
    {
     "name": "stdout",
     "output_type": "stream",
     "text": [
      "<class 'pandas.core.frame.DataFrame'>\n",
      "RangeIndex: 2348 entries, 0 to 2347\n",
      "Data columns (total 8 columns):\n",
      " #   Column        Non-Null Count  Dtype  \n",
      "---  ------        --------------  -----  \n",
      " 0   abv           2348 non-null   float64\n",
      " 1   ibu           2348 non-null   float64\n",
      " 2   beer_name     2348 non-null   object \n",
      " 3   style         2346 non-null   object \n",
      " 4   ounces        2348 non-null   float64\n",
      " 5   brewery_name  2348 non-null   object \n",
      " 6   city          2348 non-null   object \n",
      " 7   state         2348 non-null   object \n",
      "dtypes: float64(3), object(5)\n",
      "memory usage: 146.9+ KB\n"
     ]
    }
   ],
   "source": [
    "df.info()"
   ]
  },
  {
   "cell_type": "code",
   "execution_count": null,
   "id": "6892e316",
   "metadata": {},
   "outputs": [],
   "source": []
  }
 ],
 "metadata": {
  "kernelspec": {
   "display_name": "Python 3 (ipykernel)",
   "language": "python",
   "name": "python3"
  },
  "language_info": {
   "codemirror_mode": {
    "name": "ipython",
    "version": 3
   },
   "file_extension": ".py",
   "mimetype": "text/x-python",
   "name": "python",
   "nbconvert_exporter": "python",
   "pygments_lexer": "ipython3",
   "version": "3.8.12"
  }
 },
 "nbformat": 4,
 "nbformat_minor": 5
}
